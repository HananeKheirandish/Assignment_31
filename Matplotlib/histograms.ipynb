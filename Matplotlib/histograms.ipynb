{
 "cells": [
  {
   "cell_type": "code",
   "execution_count": 3,
   "id": "804c2b2a-9fde-45f5-ab45-3de3730ac77d",
   "metadata": {},
   "outputs": [],
   "source": [
    "import matplotlib.pyplot as plt\n",
    "import numpy as np"
   ]
  },
  {
   "cell_type": "code",
   "execution_count": 8,
   "id": "d6991e9d-ac5f-462a-a21c-d3762b004e38",
   "metadata": {},
   "outputs": [
    {
     "name": "stdout",
     "output_type": "stream",
     "text": [
      "[163.28914049 170.85352531 151.83838331 180.06936545 148.23705413\n",
      " 162.80013958 158.16429797 177.10769632 158.02427644 175.05269127\n",
      " 158.56494766 172.01729478 163.97781354 175.96566047 164.31668719\n",
      " 170.21777363 164.87775714 167.64041239 168.09058835 164.55681865\n",
      " 172.09374059 181.34059099 166.11319029 194.7997474  151.88598801\n",
      " 151.97435399 169.13172724 179.91991836 165.49371828 162.8378358\n",
      " 148.82479627 164.81711667 165.25517273 161.33328284 162.04044039\n",
      " 192.12061533 180.0328568  167.17141813 163.90521932 177.28664909\n",
      " 154.36674438 180.54621252 185.5969317  167.47822594 166.53887622\n",
      " 167.38128199 159.5915796  163.35182882 173.49716741 163.44275276]\n"
     ]
    }
   ],
   "source": [
    "x = np.random.normal(170, 10, 50)\n",
    "\n",
    "print(x)"
   ]
  },
  {
   "cell_type": "code",
   "execution_count": 9,
   "id": "c0573ed1-3170-47c9-b2c7-6449c4688116",
   "metadata": {},
   "outputs": [
    {
     "data": {
      "image/png": "[encoded data removed]",
      "text/plain": [
       "<Figure size 432x288 with 1 Axes>"
      ]
     },
     "metadata": {
      "needs_background": "light"
     },
     "output_type": "display_data"
    }
   ],
   "source": [
    "plt.hist(x)\n",
    "plt.show()"
   ]
  },
  {
   "cell_type": "code",
   "execution_count": null,
   "id": "1f7e35f7-e852-4da8-84a5-f4cc6f930510",
   "metadata": {},
   "outputs": [],
   "source": []
  }
 ],
 "metadata": {
  "kernelspec": {
   "display_name": "Python 3 (ipykernel)",
   "language": "python",
   "name": "python3"
  },
  "language_info": {
   "codemirror_mode": {
    "name": "ipython",
    "version": 3
   },
   "file_extension": ".py",
   "mimetype": "text/x-python",
   "name": "python",
   "nbconvert_exporter": "python",
   "pygments_lexer": "ipython3",
   "version": "3.8.9"
  }
 },
 "nbformat": 4,
 "nbformat_minor": 5
}
