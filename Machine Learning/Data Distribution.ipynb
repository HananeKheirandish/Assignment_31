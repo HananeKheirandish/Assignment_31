{
 "cells": [
  {
   "cell_type": "code",
   "execution_count": 5,
   "id": "5dd336b9-d938-4a94-8df8-6489e2e7174a",
   "metadata": {},
   "outputs": [],
   "source": [
    "import matplotlib.pyplot as plt\n",
    "import numpy"
   ]
  },
  {
   "cell_type": "code",
   "execution_count": 17,
   "id": "504e34c3-a36f-408d-ac04-5f88ed75e4b6",
   "metadata": {},
   "outputs": [],
   "source": [
    "x = numpy.random.uniform(0.0, 5.0, 250)\n",
    "#print(x)"
   ]
  },
  {
   "cell_type": "code",
   "execution_count": 18,
   "id": "e3d586ad-eaa0-4e35-9fa6-f55fcb723f95",
   "metadata": {},
   "outputs": [
    {
     "data": {
      "image/png": "[encoded data removed]",
      "text/plain": [
       "<Figure size 432x288 with 1 Axes>"
      ]
     },
     "metadata": {
      "needs_background": "light"
     },
     "output_type": "display_data"
    }
   ],
   "source": [
    "plt.hist(x, 5)\n",
    "plt.show()"
   ]
  },
  {
   "cell_type": "code",
   "execution_count": 23,
   "id": "5280bdef-4067-48b1-8b39-ab2bbbbadfdf",
   "metadata": {},
   "outputs": [
    {
     "data": {
      "image/png": "[encoded data removed]",
      "text/plain": [
       "<Figure size 432x288 with 1 Axes>"
      ]
     },
     "metadata": {
      "needs_background": "light"
     },
     "output_type": "display_data"
    }
   ],
   "source": [
    "x = numpy.random.uniform(0.0, 5.0, 100000)\n",
    "\n",
    "plt.hist(x, 100)\n",
    "plt.show()"
   ]
  },
  {
   "cell_type": "code",
   "execution_count": null,
   "id": "624cd3c0-015d-48f7-898c-96a295865e21",
   "metadata": {},
   "outputs": [],
   "source": []
  }
 ],
 "metadata": {
  "kernelspec": {
   "display_name": "Python 3 (ipykernel)",
   "language": "python",
   "name": "python3"
  },
  "language_info": {
   "codemirror_mode": {
    "name": "ipython",
    "version": 3
   },
   "file_extension": ".py",
   "mimetype": "text/x-python",
   "name": "python",
   "nbconvert_exporter": "python",
   "pygments_lexer": "ipython3",
   "version": "3.8.9"
  }
 },
 "nbformat": 4,
 "nbformat_minor": 5
}
